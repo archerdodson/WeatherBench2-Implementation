{
 "cells": [
  {
   "cell_type": "code",
   "execution_count": 2,
   "metadata": {},
   "outputs": [],
   "source": [
    "import torch\n"
   ]
  },
  {
   "cell_type": "code",
   "execution_count": 3,
   "metadata": {},
   "outputs": [
    {
     "name": "stdout",
     "output_type": "stream",
     "text": [
      "torch.Size([38, 5, 1])\n",
      "tensor([[[8.3015],\n",
      "         [8.7187],\n",
      "         [8.1985],\n",
      "         [8.8413],\n",
      "         [8.0551]],\n",
      "\n",
      "        [[8.7187],\n",
      "         [8.1985],\n",
      "         [8.8413],\n",
      "         [8.0551],\n",
      "         [9.0060]],\n",
      "\n",
      "        [[8.1985],\n",
      "         [8.8413],\n",
      "         [8.0551],\n",
      "         [9.0060],\n",
      "         [7.8619]],\n",
      "\n",
      "        [[8.8413],\n",
      "         [8.0551],\n",
      "         [9.0060],\n",
      "         [7.8619],\n",
      "         [9.2133]],\n",
      "\n",
      "        [[8.0551],\n",
      "         [9.0060],\n",
      "         [7.8619],\n",
      "         [9.2133],\n",
      "         [7.6105]]])\n",
      "torch.Size([38, 10, 1])\n",
      "tensor([[[13.6956],\n",
      "         [ 2.3813],\n",
      "         [12.1978],\n",
      "         [-0.6020],\n",
      "         [-0.4878],\n",
      "         [-5.8524],\n",
      "         [-0.0539],\n",
      "         [ 8.7413],\n",
      "         [ 8.3751],\n",
      "         [ 8.6316]],\n",
      "\n",
      "        [[ 2.3813],\n",
      "         [12.1978],\n",
      "         [-0.6020],\n",
      "         [-0.4878],\n",
      "         [-5.8524],\n",
      "         [-0.0539],\n",
      "         [ 8.7413],\n",
      "         [ 8.3751],\n",
      "         [ 8.6316],\n",
      "         [ 8.3015]],\n",
      "\n",
      "        [[12.1978],\n",
      "         [-0.6020],\n",
      "         [-0.4878],\n",
      "         [-5.8524],\n",
      "         [-0.0539],\n",
      "         [ 8.7413],\n",
      "         [ 8.3751],\n",
      "         [ 8.6316],\n",
      "         [ 8.3015],\n",
      "         [ 8.7187]],\n",
      "\n",
      "        [[-0.6020],\n",
      "         [-0.4878],\n",
      "         [-5.8524],\n",
      "         [-0.0539],\n",
      "         [ 8.7413],\n",
      "         [ 8.3751],\n",
      "         [ 8.6316],\n",
      "         [ 8.3015],\n",
      "         [ 8.7187],\n",
      "         [ 8.1985]],\n",
      "\n",
      "        [[-0.4878],\n",
      "         [-5.8524],\n",
      "         [-0.0539],\n",
      "         [ 8.7413],\n",
      "         [ 8.3751],\n",
      "         [ 8.6316],\n",
      "         [ 8.3015],\n",
      "         [ 8.7187],\n",
      "         [ 8.1985],\n",
      "         [ 8.8413]]])\n"
     ]
    }
   ],
   "source": [
    "yy = torch.load('results/lorenz/datasets/test_y.pty')\n",
    "print(yy.shape)\n",
    "print(yy[:5])\n",
    "\n",
    "xx = torch.load('results/lorenz/datasets/test_x.pty')\n",
    "# xx = torch.load('results/lorenz/datasets/window10_original_lorenz63/test_x.pty')\n",
    "print(xx.shape)\n",
    "print(xx[:5])"
   ]
  },
  {
   "cell_type": "code",
   "execution_count": 7,
   "metadata": {},
   "outputs": [
    {
     "name": "stdout",
     "output_type": "stream",
     "text": [
      "{'x': tensor([[ 10.9909],\n",
      "        [  0.4149],\n",
      "        [  0.2258],\n",
      "        ...,\n",
      "        [-10.0642],\n",
      "        [ -6.5110],\n",
      "        [-11.2363]])}\n"
     ]
    }
   ],
   "source": []
  },
  {
   "cell_type": "code",
   "execution_count": null,
   "metadata": {},
   "outputs": [],
   "source": []
  }
 ],
 "metadata": {
  "kernelspec": {
   "display_name": "Python 3",
   "language": "python",
   "name": "python3"
  },
  "language_info": {
   "codemirror_mode": {
    "name": "ipython",
    "version": 3
   },
   "file_extension": ".py",
   "mimetype": "text/x-python",
   "name": "python",
   "nbconvert_exporter": "python",
   "pygments_lexer": "ipython3",
   "version": "3.9.19"
  }
 },
 "nbformat": 4,
 "nbformat_minor": 2
}
