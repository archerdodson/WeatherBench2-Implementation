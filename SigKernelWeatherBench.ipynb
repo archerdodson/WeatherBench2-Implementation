{
 "cells": [
  {
   "cell_type": "code",
   "execution_count": 2,
   "metadata": {},
   "outputs": [],
   "source": [
    "##Attempt at using sigkernel with data\n",
    "import apache_beam"
   ]
  },
  {
   "cell_type": "code",
   "execution_count": 3,
   "metadata": {},
   "outputs": [],
   "source": [
    "import os\n",
    "import weatherbench2\n",
    "import xarray as xr\n",
    "import numpy as np\n",
    "import math\n",
    "from weatherbench2.regions import SliceRegion, ExtraTropicalRegion\n",
    "from weatherbench2.evaluation import evaluate_in_memory\n",
    "from weatherbench2 import config"
   ]
  },
  {
   "cell_type": "code",
   "execution_count": 4,
   "metadata": {},
   "outputs": [],
   "source": [
    "forecast_path = 'gs://weatherbench2/datasets/ifs_ens/2018-2022-64x32_equiangular_conservative.zarr'\n",
    "obs_path = 'gs://weatherbench2/datasets/era5/1959-2022-6h-64x32_equiangular_conservative.zarr'"
   ]
  },
  {
   "cell_type": "code",
   "execution_count": 5,
   "metadata": {},
   "outputs": [],
   "source": [
    "forecasts = xr.open_zarr(forecast_path)\n",
    "observations = xr.open_zarr(obs_path)"
   ]
  },
  {
   "cell_type": "code",
   "execution_count": null,
   "metadata": {},
   "outputs": [],
   "source": [
    "#Goal is to have batch as model, length x as time, value as lat/long flattened"
   ]
  },
  {
   "cell_type": "code",
   "execution_count": 41,
   "metadata": {},
   "outputs": [],
   "source": [
    "#Test with pred_timedelta = 0\n",
    "\n",
    "forecastssel = forecasts['geopotential'].sel(level = 500, time = slice('2020-01-01', '2020-01-10'))\n",
    "forecasts0 = forecastssel[:,:,0,:,:]\n",
    "savedfor = forecasts0.values"
   ]
  },
  {
   "cell_type": "code",
   "execution_count": 42,
   "metadata": {},
   "outputs": [],
   "source": [
    "observationsel = observations['geopotential'].sel(level = 500, time = slice('2020-01-01', '2020-01-10'))\n",
    "savedobs = observationsel[::2,:,:].values"
   ]
  },
  {
   "cell_type": "code",
   "execution_count": 43,
   "metadata": {},
   "outputs": [],
   "source": [
    "savedobs.shape\n",
    "reshabedobs = savedobs.reshape(-1,64*32)\n",
    "reshabedobs.shape\n",
    "\n",
    "#print(savedobs[0,1,0])  #2d position flattened to 1d, go through every latitude for 0 long, then every lat for 1 long etc.\n",
    "#print(reshabedobs[0,32])\n",
    "csrsobs = np.cumsum(reshabedobs,axis=0) #Culmative sum goes elementwise "
   ]
  },
  {
   "cell_type": "code",
   "execution_count": 44,
   "metadata": {},
   "outputs": [
    {
     "data": {
      "text/plain": [
       "(20, 50, 2048)"
      ]
     },
     "execution_count": 44,
     "metadata": {},
     "output_type": "execute_result"
    }
   ],
   "source": [
    "savedfor.shape\n",
    "reshavedfors = savedfor.reshape(20,50,64*32)\n",
    "csrsfor = np.cumsum(reshavedfors,axis=0)\n",
    "\n",
    "#print(savedfor[0,2,0,1]+savedfor[1,2,0,1]+savedfor[2,2,0,1])\n",
    "#csrsfor[2,2,1]\n",
    "csrsfor.shape\n"
   ]
  },
  {
   "cell_type": "code",
   "execution_count": 45,
   "metadata": {},
   "outputs": [
    {
     "name": "stdout",
     "output_type": "stream",
     "text": [
      "Obs shape: (20, 2048)\n",
      "Fors shape: (20, 50, 2048)\n",
      "Final Obs shape: (1, 20, 2048)\n",
      "Final Fors shape: (50, 20, 2048)\n",
      "566411.25\n",
      "566381.0\n"
     ]
    }
   ],
   "source": [
    "print(\"Obs shape:\", csrsobs.shape)\n",
    "print(\"Fors shape:\", csrsfor.shape)\n",
    "\n",
    "csrsobsex = np.expand_dims(csrsobs, axis = 0)\n",
    "csrsforsw = np.transpose(csrsfor, (1,0,2))\n",
    "\n",
    "\n",
    "print(\"Final Obs shape:\", csrsobsex.shape)\n",
    "print(\"Final Fors shape:\", csrsforsw.shape)\n",
    "\n",
    "print(csrsobsex.mean())\n",
    "print(csrsforsw.mean())\n"
   ]
  },
  {
   "cell_type": "code",
   "execution_count": 11,
   "metadata": {},
   "outputs": [
    {
     "data": {
      "text/plain": [
       "array([[  49846.934,   50196.53 ,   50391.094, ...,   49238.684,\n",
       "          48659.176,   48309.336],\n",
       "       [  99582.08 ,  100317.56 ,  100602.34 , ...,   98387.58 ,\n",
       "          97347.555,   96948.   ],\n",
       "       [ 149389.56 ,  150369.94 ,  150675.31 , ...,  147365.78 ,\n",
       "         146372.73 ,  145847.44 ],\n",
       "       ...,\n",
       "       [ 902296.25 ,  908305.7  ,  910008.2  , ...,  887298.8  ,\n",
       "         889337.25 ,  888369.3  ],\n",
       "       [ 953454.6  ,  959792.7  ,  961143.75 , ...,  937034.1  ,\n",
       "         939557.7  ,  939232.4  ],\n",
       "       [1004562.3  , 1011216.9  , 1012094.06 , ...,  986696.44 ,\n",
       "         989878.25 ,  989886.   ]], dtype=float32)"
      ]
     },
     "execution_count": 11,
     "metadata": {},
     "output_type": "execute_result"
    }
   ],
   "source": [
    "csrsobs"
   ]
  },
  {
   "cell_type": "code",
   "execution_count": 12,
   "metadata": {},
   "outputs": [],
   "source": [
    "import numpy as np\n",
    "import sigkernel\n",
    "import torch\n",
    "from einops import rearrange\n",
    "from itertools import product\n",
    "import cython"
   ]
  },
  {
   "cell_type": "code",
   "execution_count": 13,
   "metadata": {},
   "outputs": [],
   "source": [
    "## Date processed completed, beggining\n",
    "X = torch.tensor(csrsforsw, dtype=torch.double)\n",
    "y = torch.tensor(csrsobsex, dtype=torch.double)"
   ]
  },
  {
   "cell_type": "code",
   "execution_count": 21,
   "metadata": {},
   "outputs": [
    {
     "name": "stdout",
     "output_type": "stream",
     "text": [
      "tensor([[1.5280e+05, 1.0000e+00, 1.0000e+00,  ..., 1.0000e+00, 1.0000e+00,\n",
      "         1.0000e+00],\n",
      "        [1.0000e+00, 1.5278e+05, 1.0000e+00,  ..., 1.0000e+00, 1.0000e+00,\n",
      "         1.0000e+00],\n",
      "        [1.0000e+00, 1.0000e+00, 1.5278e+05,  ..., 1.0000e+00, 1.0000e+00,\n",
      "         1.0000e+00],\n",
      "        ...,\n",
      "        [1.0000e+00, 1.0000e+00, 1.0000e+00,  ..., 1.5276e+05, 1.0000e+00,\n",
      "         1.0000e+00],\n",
      "        [1.0000e+00, 1.0000e+00, 1.0000e+00,  ..., 1.0000e+00, 1.5280e+05,\n",
      "         1.0000e+00],\n",
      "        [1.0000e+00, 1.0000e+00, 1.0000e+00,  ..., 1.0000e+00, 1.0000e+00,\n",
      "         1.5300e+05]], dtype=torch.float64)\n",
      "tensor([[1.],\n",
      "        [1.],\n",
      "        [1.],\n",
      "        [1.],\n",
      "        [1.],\n",
      "        [1.],\n",
      "        [1.],\n",
      "        [1.],\n",
      "        [1.],\n",
      "        [1.],\n",
      "        [1.],\n",
      "        [1.],\n",
      "        [1.],\n",
      "        [1.],\n",
      "        [1.],\n",
      "        [1.],\n",
      "        [1.],\n",
      "        [1.],\n",
      "        [1.],\n",
      "        [1.],\n",
      "        [1.],\n",
      "        [1.],\n",
      "        [1.],\n",
      "        [1.],\n",
      "        [1.],\n",
      "        [1.],\n",
      "        [1.],\n",
      "        [1.],\n",
      "        [1.],\n",
      "        [1.],\n",
      "        [1.],\n",
      "        [1.],\n",
      "        [1.],\n",
      "        [1.],\n",
      "        [1.],\n",
      "        [1.],\n",
      "        [1.],\n",
      "        [1.],\n",
      "        [1.],\n",
      "        [1.],\n",
      "        [1.],\n",
      "        [1.],\n",
      "        [1.],\n",
      "        [1.],\n",
      "        [1.],\n",
      "        [1.],\n",
      "        [1.],\n",
      "        [1.],\n",
      "        [1.],\n",
      "        [1.]], dtype=torch.float64)\n",
      "K_XX_m: tensor(1., dtype=torch.float64)\n",
      "tensor(-2., dtype=torch.float64)\n",
      "tensor(-1., dtype=torch.float64)\n"
     ]
    }
   ],
   "source": [
    "static_kernel = sigkernel.RBFKernel(sigma=10000)\n",
    "dyadic_order = 2\n",
    "signature_kernel = sigkernel.SigKernel(static_kernel, dyadic_order)\n",
    "\n",
    "K_XX = signature_kernel.compute_Gram(X,X)\n",
    "K_Xy = signature_kernel.compute_Gram(X, y)\n",
    "K_XX_m = (torch.sum(K_XX) - torch.sum(torch.diag(K_XX))) / (K_XX.shape[0] * (K_XX.shape[0] - 1.))\n",
    "print(K_XX)\n",
    "print(K_Xy) #\n",
    "print(\"K_XX_m:\", K_XX_m) #Expected self similirity of predictions... \n",
    "print(-2. * torch.mean(K_Xy)) #Expected similarity between prediction and observation\n",
    "print(K_XX_m -(2.*torch.mean(K_Xy)))\n",
    "\n",
    "#Feels like there are rounding errors"
   ]
  },
  {
   "cell_type": "code",
   "execution_count": null,
   "metadata": {},
   "outputs": [
    {
     "name": "stdout",
     "output_type": "stream",
     "text": [
      "tensor([[inf, inf, inf,  ..., inf, inf, inf],\n",
      "        [inf, inf, inf,  ..., inf, inf, inf],\n",
      "        [inf, inf, inf,  ..., inf, inf, inf],\n",
      "        ...,\n",
      "        [inf, inf, inf,  ..., inf, inf, inf],\n",
      "        [inf, inf, inf,  ..., inf, inf, inf],\n",
      "        [inf, inf, inf,  ..., inf, inf, inf]], dtype=torch.float64)\n",
      "tensor([[inf],\n",
      "        [inf],\n",
      "        [inf],\n",
      "        [inf],\n",
      "        [inf],\n",
      "        [inf],\n",
      "        [inf],\n",
      "        [inf],\n",
      "        [inf],\n",
      "        [inf],\n",
      "        [inf],\n",
      "        [inf],\n",
      "        [inf],\n",
      "        [inf],\n",
      "        [inf],\n",
      "        [inf],\n",
      "        [inf],\n",
      "        [inf],\n",
      "        [inf],\n",
      "        [inf],\n",
      "        [inf],\n",
      "        [inf],\n",
      "        [inf],\n",
      "        [inf],\n",
      "        [inf],\n",
      "        [inf],\n",
      "        [inf],\n",
      "        [inf],\n",
      "        [inf],\n",
      "        [inf],\n",
      "        [inf],\n",
      "        [inf],\n",
      "        [inf],\n",
      "        [inf],\n",
      "        [inf],\n",
      "        [inf],\n",
      "        [inf],\n",
      "        [inf],\n",
      "        [inf],\n",
      "        [inf],\n",
      "        [inf],\n",
      "        [inf],\n",
      "        [inf],\n",
      "        [inf],\n",
      "        [inf],\n",
      "        [inf],\n",
      "        [inf],\n",
      "        [inf],\n",
      "        [inf],\n",
      "        [inf]], dtype=torch.float64)\n",
      "K_XX_m: tensor(nan, dtype=torch.float64)\n",
      "tensor(-inf, dtype=torch.float64)\n",
      "tensor(nan, dtype=torch.float64)\n"
     ]
    }
   ],
   "source": [
    "static_kernel = sigkernel.Linear_ID_Kernel() #LinearKernel or Linear_ID_Kernel goes to infinity\n",
    "dyadic_order = 2\n",
    "signature_kernel = sigkernel.SigKernel(static_kernel, dyadic_order)\n",
    "\n",
    "K_XX = signature_kernel.compute_Gram(X,X)\n",
    "K_Xy = signature_kernel.compute_Gram(X, y)\n",
    "K_XX_m = (torch.sum(K_XX) - torch.sum(torch.diag(K_XX))) / (K_XX.shape[0] * (K_XX.shape[0] - 1.))\n",
    "print(K_XX)\n",
    "print(K_Xy) #\n",
    "print(\"K_XX_m:\", K_XX_m) #Expected self similirity of predictions... \n",
    "print(-2. * torch.mean(K_Xy)) #Expected similarity between prediction and observation\n",
    "print(K_XX_m -(2.*torch.mean(K_Xy)))\n"
   ]
  },
  {
   "cell_type": "code",
   "execution_count": 22,
   "metadata": {},
   "outputs": [
    {
     "data": {
      "text/plain": [
       "tensor(-1., dtype=torch.float64)"
      ]
     },
     "execution_count": 22,
     "metadata": {},
     "output_type": "execute_result"
    }
   ],
   "source": [
    "signature_kernel.compute_scoring_rule(X,y)"
   ]
  },
  {
   "cell_type": "code",
   "execution_count": null,
   "metadata": {},
   "outputs": [
    {
     "name": "stdout",
     "output_type": "stream",
     "text": [
      "45149.05\n",
      "53974.15\n",
      "Obs shape: (20, 2048)\n",
      "Fors shape: (20, 50, 2048)\n",
      "Final Obs shape: (1, 20, 2048)\n",
      "Final Fors shape: (50, 20, 2048)\n",
      "92346.23\n",
      "92315.99\n",
      "(1, 20, 2048)\n"
     ]
    }
   ],
   "source": [
    "#Trying a mean shift? #Used minimum, didn't work\n",
    "\n",
    "forecastssel = forecasts['geopotential'].sel(level = 500, time = slice('2020-01-01', '2020-01-10'))\n",
    "forecasts0 = forecastssel[:,:,0,:,:]\n",
    "savedfor = forecasts0.values\n",
    "\n",
    "observationsel = observations['geopotential'].sel(level = 500, time = slice('2020-01-01', '2020-01-10'))\n",
    "savedobs = observationsel[::2,:,:].values\n",
    "\n",
    "#Shifting everything down by minimum value\n",
    "minvalue = np.array([savedobs.min(),savedfor.min()]).min()\n",
    "print(minvalue)\n",
    "print(savedobs.mean())\n",
    "savedobsshift = savedobs - minvalue\n",
    "savedforshift = savedfor - minvalue\n",
    "\n",
    "savedobsshift.shape\n",
    "reshabedobs = savedobsshift.reshape(-1,64*32)\n",
    "reshabedobs.shape\n",
    "\n",
    "# #print(savedobs[0,1,0])  #2d position flattened to 1d, go through every latitude for 0 long, then every lat for 1 long etc.\n",
    "# #print(reshabedobs[0,32])\n",
    "csrsobs = np.cumsum(reshabedobs,axis=0) #Culmative sum goes elementwise \n",
    "\n",
    "# savedfor.shape\n",
    "reshavedfors = savedforshift.reshape(20,50,64*32)\n",
    "csrsfor = np.cumsum(reshavedfors,axis=0)\n",
    "\n",
    "# #print(savedfor[0,2,0,1]+savedfor[1,2,0,1]+savedfor[2,2,0,1])\n",
    "# #csrsfor[2,2,1]\n",
    "# csrsfor.shape\n",
    "\n",
    "print(\"Obs shape:\", csrsobs.shape)\n",
    "print(\"Fors shape:\", csrsfor.shape)\n",
    "\n",
    "csrsobsex = np.expand_dims(csrsobs, axis = 0)\n",
    "csrsforsw = np.transpose(csrsfor, (1,0,2))\n",
    "\n",
    "print(\"Final Obs shape:\", csrsobsex.shape)\n",
    "print(\"Final Fors shape:\", csrsforsw.shape)\n",
    "\n"
   ]
  },
  {
   "cell_type": "code",
   "execution_count": 53,
   "metadata": {},
   "outputs": [
    {
     "name": "stdout",
     "output_type": "stream",
     "text": [
      "tensor([[8.7792e+04, 1.0000e+00, 1.0000e+00,  ..., 1.0000e+00, 1.0000e+00,\n",
      "         1.0000e+00],\n",
      "        [1.0000e+00, 8.3319e+04, 1.0000e+00,  ..., 1.0000e+00, 1.0000e+00,\n",
      "         1.0000e+00],\n",
      "        [1.0000e+00, 1.0000e+00, 8.4337e+04,  ..., 1.0000e+00, 1.0000e+00,\n",
      "         1.0000e+00],\n",
      "        ...,\n",
      "        [1.0000e+00, 1.0000e+00, 1.0000e+00,  ..., 8.1022e+04, 1.0000e+00,\n",
      "         1.0000e+00],\n",
      "        [1.0000e+00, 1.0000e+00, 1.0000e+00,  ..., 1.0000e+00, 8.2747e+04,\n",
      "         1.0000e+00],\n",
      "        [1.0000e+00, 1.0000e+00, 1.0000e+00,  ..., 1.0000e+00, 1.0000e+00,\n",
      "         1.0720e+05]], dtype=torch.float64)\n",
      "tensor([[1.],\n",
      "        [1.],\n",
      "        [1.],\n",
      "        [1.],\n",
      "        [1.],\n",
      "        [1.],\n",
      "        [1.],\n",
      "        [1.],\n",
      "        [1.],\n",
      "        [1.],\n",
      "        [1.],\n",
      "        [1.],\n",
      "        [1.],\n",
      "        [1.],\n",
      "        [1.],\n",
      "        [1.],\n",
      "        [1.],\n",
      "        [1.],\n",
      "        [1.],\n",
      "        [1.],\n",
      "        [1.],\n",
      "        [1.],\n",
      "        [1.],\n",
      "        [1.],\n",
      "        [1.],\n",
      "        [1.],\n",
      "        [1.],\n",
      "        [1.],\n",
      "        [1.],\n",
      "        [1.],\n",
      "        [1.],\n",
      "        [1.],\n",
      "        [1.],\n",
      "        [1.],\n",
      "        [1.],\n",
      "        [1.],\n",
      "        [1.],\n",
      "        [1.],\n",
      "        [1.],\n",
      "        [1.],\n",
      "        [1.],\n",
      "        [1.],\n",
      "        [1.],\n",
      "        [1.],\n",
      "        [1.],\n",
      "        [1.],\n",
      "        [1.],\n",
      "        [1.],\n",
      "        [1.],\n",
      "        [1.]], dtype=torch.float64)\n",
      "K_XX_m: tensor(1.0000, dtype=torch.float64)\n",
      "tensor(-2., dtype=torch.float64)\n",
      "tensor(-1.0000, dtype=torch.float64)\n"
     ]
    }
   ],
   "source": [
    "X = torch.tensor(csrsforsw, dtype=torch.double)\n",
    "y = torch.tensor(csrsobsex, dtype=torch.double)\n",
    "\n",
    "static_kernel = sigkernel.RBFKernel(sigma=2)\n",
    "dyadic_order = 2\n",
    "signature_kernel = sigkernel.SigKernel(static_kernel, dyadic_order)\n",
    "\n",
    "K_XX = signature_kernel.compute_Gram(X,X)\n",
    "K_Xy = signature_kernel.compute_Gram(X, y)\n",
    "K_XX_m = (torch.sum(K_XX) - torch.sum(torch.diag(K_XX))) / (K_XX.shape[0] * (K_XX.shape[0] - 1.))\n",
    "print(K_XX)\n",
    "print(K_Xy) #\n",
    "print(\"K_XX_m:\", K_XX_m) #Expected self similirity of predictions... \n",
    "print(-2. * torch.mean(K_Xy)) #Expected similarity between prediction and observation\n",
    "print(K_XX_m -(2.*torch.mean(K_Xy)))"
   ]
  },
  {
   "cell_type": "code",
   "execution_count": null,
   "metadata": {},
   "outputs": [
    {
     "name": "stdout",
     "output_type": "stream",
     "text": [
      "58347.312\n",
      "53974.15\n",
      "Obs shape: (20, 2048)\n",
      "Fors shape: (20, 50, 2048)\n",
      "Final Obs shape: (1, 20, 2048)\n",
      "Final Fors shape: (50, 20, 2048)\n"
     ]
    }
   ],
   "source": [
    "#Trying a divid by maximum shift? Does generate real value: does it work? \n",
    "\n",
    "forecastssel = forecasts['geopotential'].sel(level = 500, time = slice('2020-01-01', '2020-01-10'))\n",
    "forecasts0 = forecastssel[:,:,0,:,:]\n",
    "savedfor = forecasts0.values\n",
    "\n",
    "observationsel = observations['geopotential'].sel(level = 500, time = slice('2020-01-01', '2020-01-10'))\n",
    "savedobs = observationsel[::2,:,:].values\n",
    "\n",
    "#Shifting everything down by minimum value\n",
    "maxvalue = np.array([savedobs.max(),savedfor.max()]).max()\n",
    "print(maxvalue)\n",
    "print(savedobs.mean())\n",
    "savedobsshift = savedobs/maxvalue\n",
    "savedforshift = savedfor/maxvalue\n",
    "\n",
    "savedobsshift.shape\n",
    "reshabedobs = savedobsshift.reshape(-1,64*32)\n",
    "reshabedobs.shape\n",
    "\n",
    "# #print(savedobs[0,1,0])  #2d position flattened to 1d, go through every latitude for 0 long, then every lat for 1 long etc.\n",
    "# #print(reshabedobs[0,32])\n",
    "csrsobs = np.cumsum(reshabedobs,axis=0) #Culmative sum goes elementwise \n",
    "\n",
    "# savedfor.shape\n",
    "reshavedfors = savedforshift.reshape(20,50,64*32)\n",
    "csrsfor = np.cumsum(reshavedfors,axis=0)\n",
    "\n",
    "# #print(savedfor[0,2,0,1]+savedfor[1,2,0,1]+savedfor[2,2,0,1])\n",
    "# #csrsfor[2,2,1]\n",
    "# csrsfor.shape\n",
    "\n",
    "print(\"Obs shape:\", csrsobs.shape)\n",
    "print(\"Fors shape:\", csrsfor.shape)\n",
    "\n",
    "csrsobsex = np.expand_dims(csrsobs, axis = 0)\n",
    "csrsforsw = np.transpose(csrsfor, (1,0,2))\n",
    "\n",
    "print(\"Final Obs shape:\", csrsobsex.shape)\n",
    "print(\"Final Fors shape:\", csrsforsw.shape)"
   ]
  },
  {
   "cell_type": "code",
   "execution_count": 57,
   "metadata": {},
   "outputs": [
    {
     "name": "stdout",
     "output_type": "stream",
     "text": [
      "tensor([[153677.1668, 141831.0625, 145261.9578,  ..., 142337.7196,\n",
      "         145606.2026, 146748.5873],\n",
      "        [141831.0625, 153677.1669, 145893.8163,  ..., 147020.9039,\n",
      "         142580.1742, 144588.5203],\n",
      "        [145261.9578, 145893.8163, 153677.1669,  ..., 145056.4159,\n",
      "         145686.2982, 146244.4211],\n",
      "        ...,\n",
      "        [142337.7196, 147020.9039, 145056.4159,  ..., 153677.1669,\n",
      "         142756.5391, 144857.7361],\n",
      "        [145606.2026, 142580.1742, 145686.2982,  ..., 142756.5391,\n",
      "         153677.1668, 145791.2138],\n",
      "        [146748.5873, 144588.5203, 146244.4211,  ..., 144857.7361,\n",
      "         145791.2138, 153677.1675]], dtype=torch.float64)\n",
      "tensor([[111963.1239],\n",
      "        [113400.2121],\n",
      "        [112101.8209],\n",
      "        [111965.0228],\n",
      "        [112209.0951],\n",
      "        [111869.1087],\n",
      "        [111856.3950],\n",
      "        [115466.1790],\n",
      "        [113719.4448],\n",
      "        [112118.7457],\n",
      "        [113137.7077],\n",
      "        [111740.7530],\n",
      "        [111712.5862],\n",
      "        [111781.7241],\n",
      "        [111070.7840],\n",
      "        [111763.3419],\n",
      "        [113781.2336],\n",
      "        [110944.9783],\n",
      "        [115048.3913],\n",
      "        [112772.4420],\n",
      "        [114677.8086],\n",
      "        [114777.1455],\n",
      "        [112084.5050],\n",
      "        [113173.1750],\n",
      "        [116260.6160],\n",
      "        [112232.7428],\n",
      "        [111030.4939],\n",
      "        [111003.8873],\n",
      "        [113655.0585],\n",
      "        [110643.4842],\n",
      "        [111950.4560],\n",
      "        [113594.0445],\n",
      "        [110232.3405],\n",
      "        [110978.4212],\n",
      "        [112089.8224],\n",
      "        [112403.4291],\n",
      "        [109780.6852],\n",
      "        [111218.5304],\n",
      "        [113256.6720],\n",
      "        [113136.2512],\n",
      "        [110207.0825],\n",
      "        [112037.9357],\n",
      "        [114827.2776],\n",
      "        [111726.6206],\n",
      "        [112843.0149],\n",
      "        [111440.9983],\n",
      "        [114020.2329],\n",
      "        [113089.9913],\n",
      "        [109241.0661],\n",
      "        [115079.9470]], dtype=torch.float64)\n",
      "K_XX_m: tensor(145254.7040, dtype=torch.float64)\n",
      "tensor(-224924.6730, dtype=torch.float64)\n",
      "tensor(-79669.9690, dtype=torch.float64)\n"
     ]
    }
   ],
   "source": [
    "X = torch.tensor(csrsforsw, dtype=torch.double)\n",
    "y = torch.tensor(csrsobsex, dtype=torch.double)\n",
    "\n",
    "static_kernel = sigkernel.RBFKernel(sigma=2)\n",
    "dyadic_order = 2\n",
    "signature_kernel = sigkernel.SigKernel(static_kernel, dyadic_order)\n",
    "\n",
    "K_XX = signature_kernel.compute_Gram(X,X)\n",
    "K_Xy = signature_kernel.compute_Gram(X, y)\n",
    "K_XX_m = (torch.sum(K_XX) - torch.sum(torch.diag(K_XX))) / (K_XX.shape[0] * (K_XX.shape[0] - 1.))\n",
    "print(K_XX)\n",
    "print(K_Xy) #\n",
    "print(\"K_XX_m:\", K_XX_m) #Expected self similirity of predictions... \n",
    "print(-2. * torch.mean(K_Xy)) #Expected similarity between prediction and observation\n",
    "print(K_XX_m -(2.*torch.mean(K_Xy)))"
   ]
  }
 ],
 "metadata": {
  "kernelspec": {
   "display_name": "Diss",
   "language": "python",
   "name": "python3"
  },
  "language_info": {
   "codemirror_mode": {
    "name": "ipython",
    "version": 3
   },
   "file_extension": ".py",
   "mimetype": "text/x-python",
   "name": "python",
   "nbconvert_exporter": "python",
   "pygments_lexer": "ipython3",
   "version": "3.12.7"
  }
 },
 "nbformat": 4,
 "nbformat_minor": 2
}
