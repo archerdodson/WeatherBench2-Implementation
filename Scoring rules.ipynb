{
 "cells": [
  {
   "cell_type": "code",
   "execution_count": 2,
   "metadata": {},
   "outputs": [],
   "source": [
    "import numpy as np\n",
    "from scipy.stats import norm\n",
    "from scipy.stats import uniform\n",
    "from scipy.stats import gamma\n",
    "from scipy.stats import expon\n",
    "from scipy.stats import binom\n",
    "\n"
   ]
  },
  {
   "cell_type": "markdown",
   "metadata": {},
   "source": [
    "Designing scoring rules sampling on gaussian distribution"
   ]
  },
  {
   "cell_type": "code",
   "execution_count": 3,
   "metadata": {},
   "outputs": [
    {
     "name": "stdout",
     "output_type": "stream",
     "text": [
      "[-0.13452594  1.3813667   0.61355312 -0.07918043  0.63000437 -0.62589883\n",
      " -1.90091399  0.51907055 -1.10923647  2.31894287]\n"
     ]
    }
   ],
   "source": [
    "#\n",
    "data_normal = norm.rvs(size=1000, loc=0, scale = 1)\n",
    "\n",
    "# Creating a couple potential distributions to compare with\n",
    "normal1 = norm(loc=0, scale = 1)\n",
    "normal2 = norm(loc=1, scale = 1)\n",
    "normal3 = norm(loc=0, scale = 2)\n",
    "binom1 = binom(n=2,p=0.5)\n",
    "\n",
    "\n",
    "#print(data_normal)\n",
    "print(normal1.rvs(10))"
   ]
  },
  {
   "cell_type": "markdown",
   "metadata": {},
   "source": [
    "### Energy Score\n",
    "$\\textnormal{Energy Score} (F,x) = 2E_F[||X-x||] - E_F[||X-X'||]$\n"
   ]
  },
  {
   "cell_type": "code",
   "execution_count": 4,
   "metadata": {},
   "outputs": [],
   "source": [
    "#Fist example of energy score is when distribution is constant\n",
    "def energyscore1(samples, predist):\n",
    "\n",
    "    # sample to true \n",
    "    M=samples.size\n",
    "    distsamples = predist.rvs(M)\n",
    "\n",
    "    E1 = sum(abs(distsamples - samples))/M\n",
    "    #pairs of samples to itself\n",
    "    E2 = np.sum(abs(distsamples - distsamples.reshape(-1,1)))/(M*M)  ##This line is bad storage wise\n",
    "\n",
    "    score = 2*E1 - E2\n",
    "    print(score)\n",
    "    return(score)"
   ]
  },
  {
   "cell_type": "code",
   "execution_count": 5,
   "metadata": {},
   "outputs": [
    {
     "name": "stdout",
     "output_type": "stream",
     "text": [
      "2.8377932577020504\n",
      "2.4715221100359694\n",
      "2.647759211306706\n",
      "2.6787181591491653\n"
     ]
    },
    {
     "data": {
      "text/plain": [
       "np.float64(2.6787181591491653)"
      ]
     },
     "execution_count": 5,
     "metadata": {},
     "output_type": "execute_result"
    }
   ],
   "source": [
    "## Testing on different distributions\n",
    "data_normaltest = norm.rvs(size=1000, loc=1, scale = 2)\n",
    "\n",
    "#\n",
    "energyscore1(data_normaltest, normal1)\n",
    "energyscore1(data_normaltest, normal2)\n",
    "energyscore1(data_normaltest, normal3)\n",
    "energyscore1(data_normaltest, binom1)\n",
    "\n",
    "#distribution closest does have lowest energy score\n"
   ]
  },
  {
   "cell_type": "code",
   "execution_count": 34,
   "metadata": {},
   "outputs": [],
   "source": [
    "#Second example is when you have pairs of different distributions and samples\n",
    "#Assuming # of samples is equivalent to number of distributions\n",
    "def energyscore2(samples, dists):\n",
    "\n",
    "    # sample to true \n",
    "    M=samples.size\n",
    "    distsamples = norm.rvs(loc=dists[:,0], scale = dists[:,1])\n",
    "\n",
    "    E1 = sum(abs(distsamples - samples))/M\n",
    "    #pairs of samples to itself\n",
    "    E2 = np.sum(abs(distsamples - distsamples.reshape(-1,1)))/(M*M)  ##This line is bad storage wise\n",
    "\n",
    "    score = 2*E1 - E2\n",
    "    print(score)\n",
    "    return(score)"
   ]
  },
  {
   "cell_type": "code",
   "execution_count": 64,
   "metadata": {},
   "outputs": [
    {
     "name": "stdout",
     "output_type": "stream",
     "text": [
      "2.3844839059147325\n",
      "2.1130417792932192\n"
     ]
    },
    {
     "data": {
      "text/plain": [
       "np.float64(2.1130417792932192)"
      ]
     },
     "execution_count": 64,
     "metadata": {},
     "output_type": "execute_result"
    }
   ],
   "source": [
    "data_normaltest = norm.rvs(size=1000, loc=1, scale = 2)\n",
    "\n",
    "#Creating sequences of distributions (mean 0:1, scale 1:2) for guassian distributions.\n",
    "locs = uniform.rvs(loc=0, scale=1, size =1000)\n",
    "scales = uniform.rvs(loc =1, scale =1, size = 1000)\n",
    "params1 = np.column_stack((locs,scales))\n",
    "\n",
    "\n",
    "# creating sequences of distributions, (mean 0.5:1.5, scale 1:2)\n",
    "locs = uniform.rvs(loc=0.5, scale=1, size =1000)\n",
    "scales = uniform.rvs(loc =1, scale =1, size = 1000)\n",
    "params2 = np.column_stack((locs,scales))\n",
    "\n",
    "\n",
    "energyscore2(data_normaltest, params1)\n",
    "energyscore2(data_normaltest, params2) #better most times as mean is closer\n",
    "\n",
    "\n"
   ]
  },
  {
   "cell_type": "code",
   "execution_count": null,
   "metadata": {},
   "outputs": [],
   "source": [
    "\n"
   ]
  }
 ],
 "metadata": {
  "kernelspec": {
   "display_name": "Python 3",
   "language": "python",
   "name": "python3"
  },
  "language_info": {
   "codemirror_mode": {
    "name": "ipython",
    "version": 3
   },
   "file_extension": ".py",
   "mimetype": "text/x-python",
   "name": "python",
   "nbconvert_exporter": "python",
   "pygments_lexer": "ipython3",
   "version": "3.12.6"
  }
 },
 "nbformat": 4,
 "nbformat_minor": 2
}
