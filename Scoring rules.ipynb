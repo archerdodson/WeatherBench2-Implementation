{
 "cells": [
  {
   "cell_type": "code",
   "execution_count": 2,
   "metadata": {},
   "outputs": [],
   "source": [
    "import numpy as np\n",
    "from scipy.stats import norm\n",
    "from scipy.stats import uniform\n",
    "from scipy.stats import gamma\n",
    "from scipy.stats import expon\n",
    "from scipy.stats import binom\n",
    "\n"
   ]
  },
  {
   "cell_type": "markdown",
   "metadata": {},
   "source": [
    "Designing scoring rules sampling on gaussian distribution"
   ]
  },
  {
   "cell_type": "code",
   "execution_count": 3,
   "metadata": {},
   "outputs": [
    {
     "name": "stdout",
     "output_type": "stream",
     "text": [
      "[ 0.30178721 -0.15417147  0.11322084 -1.12857724 -2.08445771 -0.05350785\n",
      " -0.80609694  1.18467787  0.80817859  0.35986619]\n"
     ]
    }
   ],
   "source": [
    "#\n",
    "data_normal = norm.rvs(size=1000, loc=0, scale = 1)\n",
    "\n",
    "# Creating a couple potential distributions to compare with\n",
    "normal1 = norm(loc=0, scale = 1)\n",
    "normal2 = norm(loc=1, scale = 1)\n",
    "normal3 = norm(loc=0, scale = 2)\n",
    "binom1 = binom(n=2,p=0.5)\n",
    "\n",
    "\n",
    "#print(data_normal)\n",
    "print(normal1.rvs(10))"
   ]
  },
  {
   "cell_type": "markdown",
   "metadata": {},
   "source": [
    "### Energy Score\n",
    "$\\textnormal{Energy Score} (F,x) = 2E_F[||X-x||] - E_F[||X-X'||]$\n"
   ]
  },
  {
   "cell_type": "code",
   "execution_count": 4,
   "metadata": {},
   "outputs": [],
   "source": [
    "def energyscore1(samples, predist):\n",
    "\n",
    "    # sample to true \n",
    "    M=samples.size\n",
    "    distsamples = predist.rvs(M)\n",
    "\n",
    "    E1 = sum(abs(distsamples - samples))/M\n",
    "    #pairs of samples to itself\n",
    "    E2 = np.sum(abs(distsamples - distsamples.reshape(-1,1)))/(M*M)  ##This line is bad storage wise\n",
    "\n",
    "    score = 2*E1 - E2\n",
    "    print(score)\n",
    "    return(score)"
   ]
  },
  {
   "cell_type": "code",
   "execution_count": 5,
   "metadata": {},
   "outputs": [
    {
     "name": "stdout",
     "output_type": "stream",
     "text": [
      "2.876083731930875\n",
      "2.4028325709409586\n",
      "2.4059928029109394\n",
      "2.6043920571658337\n"
     ]
    },
    {
     "data": {
      "text/plain": [
       "np.float64(2.6043920571658337)"
      ]
     },
     "execution_count": 5,
     "metadata": {},
     "output_type": "execute_result"
    }
   ],
   "source": [
    "## Testing on different distributions\n",
    "data_normaltest = norm.rvs(size=1000, loc=1, scale = 2)\n",
    "\n",
    "#\n",
    "energyscore1(data_normaltest, normal1)\n",
    "energyscore1(data_normaltest, normal2)\n",
    "energyscore1(data_normaltest, normal3)\n",
    "energyscore1(data_normaltest, binom1)\n",
    "\n",
    "#distribution closest does have lowest energy score\n"
   ]
  }
 ],
 "metadata": {
  "kernelspec": {
   "display_name": "Python 3",
   "language": "python",
   "name": "python3"
  },
  "language_info": {
   "codemirror_mode": {
    "name": "ipython",
    "version": 3
   },
   "file_extension": ".py",
   "mimetype": "text/x-python",
   "name": "python",
   "nbconvert_exporter": "python",
   "pygments_lexer": "ipython3",
   "version": "3.12.6"
  }
 },
 "nbformat": 4,
 "nbformat_minor": 2
}
